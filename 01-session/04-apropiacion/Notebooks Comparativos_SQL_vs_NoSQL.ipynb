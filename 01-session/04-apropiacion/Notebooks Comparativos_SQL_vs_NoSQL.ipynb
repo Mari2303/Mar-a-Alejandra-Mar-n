{
 "cells": [
  {
   "cell_type": "markdown",
   "id": "76e246f9",
   "metadata": {},
   "source": [
    "\n",
    "# 📊 Comparación SQL vs NoSQL (Didáctico)\n",
    "\n",
    "En este notebook aprenderás las diferencias entre **SQL** (estructuras rígidas) y **NoSQL** (estructuras flexibles) mediante ejemplos prácticos con datos sintéticos, gráficos y analogías educativas.\n"
   ]
  },
  {
   "cell_type": "markdown",
   "id": "d117ee11",
   "metadata": {},
   "source": [
    "\n",
    "## 1️⃣ Simulación de Base de Datos SQL (Estructura Rígida)\n",
    "\n",
    "En SQL, todas las filas deben seguir el mismo esquema de columnas.\n",
    "Es como una **tabla en una hoja de cálculo**: todas las filas tienen las mismas columnas.\n",
    "\n",
    "**Analogia:** 📋 *Piensa en un formulario de inscripción donde todos deben llenar exactamente las mismas casillas.*\n"
   ]
  },
  {
   "cell_type": "code",
   "execution_count": null,
   "id": "a7f8087b",
   "metadata": {},
   "outputs": [],
   "source": [
    "\n",
    "import pandas as pd\n",
    "import numpy as np\n",
    "\n",
    "# Datos sintéticos para SQL\n",
    "np.random.seed(42)\n",
    "sql_data = pd.DataFrame({\n",
    "    'ID': range(1, 101),\n",
    "    'Nombre': np.random.choice(['Ana', 'Luis', 'Pedro', 'María', 'Sofía'], 100),\n",
    "    'Edad': np.random.randint(18, 60, 100),\n",
    "    'Ciudad': np.random.choice(['Bogotá', 'Medellín', 'Cali', 'Barranquilla'], 100)\n",
    "})\n",
    "\n",
    "sql_data.head()\n"
   ]
  },
  {
   "cell_type": "code",
   "execution_count": null,
   "id": "f87f92c8",
   "metadata": {},
   "outputs": [],
   "source": [
    "\n",
    "import matplotlib.pyplot as plt\n",
    "\n",
    "plt.figure(figsize=(6,4))\n",
    "sql_data['Ciudad'].value_counts().plot(kind='bar')\n",
    "plt.title('Distribución por Ciudad (SQL)')\n",
    "plt.xlabel('Ciudad')\n",
    "plt.ylabel('Cantidad')\n",
    "plt.show()\n"
   ]
  },
  {
   "cell_type": "markdown",
   "id": "b6b2d74d",
   "metadata": {},
   "source": [
    "\n",
    "## 2️⃣ Simulación de Base de Datos NoSQL (Documentos Heterogéneos)\n",
    "\n",
    "En NoSQL documental, cada documento puede tener campos diferentes.\n",
    "Es como una **caja con cartas**: cada carta puede tener información distinta.\n",
    "\n",
    "**Analogia:** 📦 *Imagina que cada cliente escribe su carta a su manera: algunos ponen teléfono, otros no, algunos incluyen redes sociales, etc.*\n"
   ]
  },
  {
   "cell_type": "code",
   "execution_count": null,
   "id": "429f0f82",
   "metadata": {},
   "outputs": [],
   "source": [
    "\n",
    "import random\n",
    "\n",
    "# Datos sintéticos NoSQL heterogéneos\n",
    "nosql_data = []\n",
    "for i in range(1, 101):\n",
    "    doc = {\"ID\": i, \"Nombre\": random.choice(['Ana', 'Luis', 'Pedro', 'María', 'Sofía'])}\n",
    "    if random.random() > 0.5:\n",
    "        doc[\"Edad\"] = random.randint(18, 60)\n",
    "    if random.random() > 0.7:\n",
    "        doc[\"RedesSociales\"] = random.choice(['Instagram', 'Facebook', 'Twitter'])\n",
    "    nosql_data.append(doc)\n",
    "\n",
    "nosql_data[:5]\n"
   ]
  },
  {
   "cell_type": "markdown",
   "id": "31679654",
   "metadata": {},
   "source": [
    "\n",
    "## 3️⃣ Simulación de Base de Datos NoSQL Homogéneo\n",
    "\n",
    "En este modelo, todos los documentos tienen el mismo formato, pero el esquema sigue siendo flexible.\n",
    "\n",
    "**Analogia:** 📑 *Es como una hoja de registro donde todos escriben los mismos datos, pero no hay una regla estricta que lo obligue.*\n"
   ]
  },
  {
   "cell_type": "code",
   "execution_count": null,
   "id": "47e97b0f",
   "metadata": {},
   "outputs": [],
   "source": [
    "\n",
    "# Datos sintéticos NoSQL homogéneo\n",
    "nosql_homog = [\n",
    "    {\"ID\": i, \"Nombre\": random.choice(['Ana', 'Luis', 'Pedro', 'María', 'Sofía']), \"Edad\": random.randint(18, 60), \"Ciudad\": random.choice(['Bogotá', 'Medellín', 'Cali', 'Barranquilla'])}\n",
    "    for i in range(1, 101)\n",
    "]\n",
    "\n",
    "nosql_homog[:5]\n"
   ]
  },
  {
   "cell_type": "markdown",
   "id": "d038cb23",
   "metadata": {},
   "source": [
    "\n",
    "## 📌 Conclusión\n",
    "\n",
    "- **SQL** es ideal para datos estructurados y consistentes, pero menos flexible para cambios rápidos en el esquema.\n",
    "- **NoSQL heterogéneo** ofrece gran flexibilidad, pero puede dificultar análisis estructurados.\n",
    "- **NoSQL homogéneo** combina cierta uniformidad con flexibilidad.\n",
    "\n",
    "💡 *La elección depende del tipo de datos, la necesidad de escalabilidad y la rapidez de cambios en el modelo.*\n"
   ]
  }
 ],
 "metadata": {},
 "nbformat": 4,
 "nbformat_minor": 5
}
